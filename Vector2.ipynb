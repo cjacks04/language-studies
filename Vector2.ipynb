{
 "cells": [
  {
   "cell_type": "code",
   "execution_count": 1,
   "id": "f76d88dd",
   "metadata": {},
   "outputs": [
    {
     "name": "stderr",
     "output_type": "stream",
     "text": [
      "[nltk_data] Error loading words: <urlopen error [SSL:\n",
      "[nltk_data]     CERTIFICATE_VERIFY_FAILED] certificate verify failed:\n",
      "[nltk_data]     unable to get local issuer certificate (_ssl.c:1129)>\n",
      "[nltk_data] Error loading stopwords: <urlopen error [SSL:\n",
      "[nltk_data]     CERTIFICATE_VERIFY_FAILED] certificate verify failed:\n",
      "[nltk_data]     unable to get local issuer certificate (_ssl.c:1129)>\n",
      "[nltk_data] Error loading punkt: <urlopen error [SSL:\n",
      "[nltk_data]     CERTIFICATE_VERIFY_FAILED] certificate verify failed:\n",
      "[nltk_data]     unable to get local issuer certificate (_ssl.c:1129)>\n",
      "[nltk_data] Error loading wordnet: <urlopen error [SSL:\n",
      "[nltk_data]     CERTIFICATE_VERIFY_FAILED] certificate verify failed:\n",
      "[nltk_data]     unable to get local issuer certificate (_ssl.c:1129)>\n",
      "[nltk_data] Error loading omw-1.4: <urlopen error [SSL:\n",
      "[nltk_data]     CERTIFICATE_VERIFY_FAILED] certificate verify failed:\n",
      "[nltk_data]     unable to get local issuer certificate (_ssl.c:1129)>\n"
     ]
    }
   ],
   "source": [
    "import csv\n",
    "import pandas as pd\n",
    "import nltk\n",
    "from sklearn.feature_extraction.text import CountVectorizer\n",
    "from sklearn.feature_extraction.text import TfidfVectorizer\n",
    "from sklearn.metrics.pairwise import cosine_similarity\n",
    "from nltk.stem import PorterStemmer\n",
    "from nltk.stem import WordNetLemmatizer\n",
    "from nltk.corpus import stopwords\n",
    "from nltk.tokenize import word_tokenize\n",
    "import time\n",
    "import enchant\n",
    "from emoji import UNICODE_EMOJI\n",
    "\n",
    "\n",
    "import ssl\n",
    "\n",
    "\n",
    "nltk.download('words')\n",
    "words = set(nltk.corpus.words.words())\n",
    "nltk.download('stopwords')\n",
    "nltk.download('punkt')\n",
    "vectorizer = TfidfVectorizer()\n",
    "count_vect = CountVectorizer()\n",
    "ps =PorterStemmer()\n",
    "\n",
    "nltk.download('wordnet')\n",
    "nltk.download('omw-1.4')\n",
    "wordnet_lemmatizer = WordNetLemmatizer()\n",
    "\n"
   ]
  },
  {
   "cell_type": "code",
   "execution_count": 2,
   "id": "8a761d99",
   "metadata": {},
   "outputs": [],
   "source": [
    "def process_csv(filename):\n",
    "    example_file = open(filename, encoding=\"utf-8\")\n",
    "    example_reader = csv.reader(example_file)\n",
    "    example_data = list(example_reader)\n",
    "    example_file.close()\n",
    "    return example_data"
   ]
  },
  {
   "cell_type": "code",
   "execution_count": 3,
   "id": "e478fce9",
   "metadata": {},
   "outputs": [
    {
     "data": {
      "text/plain": [
       "'comment_user_id'"
      ]
     },
     "execution_count": 3,
     "metadata": {},
     "output_type": "execute_result"
    }
   ],
   "source": [
    "#Data Preparation\n",
    "data = process_csv('gravity-spy-comments-processed06-May-2021 11.05.csv')\n",
    "title = data[0]\n",
    "data = data[1:]\n",
    "title[9]"
   ]
  },
  {
   "cell_type": "code",
   "execution_count": 4,
   "id": "8ed93b6a",
   "metadata": {},
   "outputs": [],
   "source": [
    "d = enchant.Dict(\"en_US\")\n",
    "# Function to remove digits\n",
    "def digitRemoved(word):\n",
    "    non_digit_word = ''\n",
    "    for char in word:\n",
    "        if not char.isdigit():\n",
    "            non_digit_word+=char\n",
    "    return non_digit_word\n",
    "\n",
    "# Create Community\n",
    "def create_community(sentence):\n",
    "    tokens = word_tokenize(sentence)\n",
    "\n",
    "    community = set()\n",
    "    for token in tokens:\n",
    "        if token not in stopwords.words():\n",
    "            no_digit_token = digitRemoved(token)\n",
    "            if len(no_digit_token) >= 2:\n",
    "                no_digit_token = wordnet_lemmatizer.lemmatize(no_digit_token)\n",
    "                if (d.check(no_digit_token) or d.check(no_digit_token.capitalize()) or \n",
    "                    d.check(no_digit_token.upper())) and not no_digit_token in UNICODE_EMOJI['en']:\n",
    "                    community.add(no_digit_token)\n",
    "\n",
    "    community = (' ').join(community)\n",
    "    return community\n"
   ]
  },
  {
   "cell_type": "code",
   "execution_count": 5,
   "id": "ec1c717e",
   "metadata": {},
   "outputs": [],
   "source": [
    "start_time = time.time()\n",
    "id_dict = {}\n",
    "print(len(data))\n",
    "for row in data:\n",
    "    curr_id = row[9]\n",
    "    if curr_id in id_dict:\n",
    "        id_dict[curr_id]+=(create_community(row[12]))\n",
    "    else:\n",
    "        id_dict[curr_id] = create_community(row[12])\n",
    "id_dict[:10]\n",
    "    "
   ]
  },
  {
   "cell_type": "code",
   "execution_count": null,
   "id": "c3392b04",
   "metadata": {},
   "outputs": [],
   "source": []
  },
  {
   "cell_type": "code",
   "execution_count": null,
   "id": "1c657fec",
   "metadata": {},
   "outputs": [],
   "source": []
  },
  {
   "cell_type": "code",
   "execution_count": null,
   "id": "c842c7ea",
   "metadata": {},
   "outputs": [],
   "source": []
  },
  {
   "cell_type": "code",
   "execution_count": null,
   "id": "53f7b9bd",
   "metadata": {},
   "outputs": [],
   "source": [
    "\n",
    "\n"
   ]
  },
  {
   "cell_type": "code",
   "execution_count": null,
   "id": "2d1bd1d5",
   "metadata": {
    "scrolled": true
   },
   "outputs": [],
   "source": []
  },
  {
   "cell_type": "code",
   "execution_count": null,
   "id": "3fdc3964",
   "metadata": {},
   "outputs": [],
   "source": []
  },
  {
   "cell_type": "code",
   "execution_count": null,
   "id": "dd503998",
   "metadata": {},
   "outputs": [],
   "source": [
    "\n"
   ]
  },
  {
   "cell_type": "code",
   "execution_count": null,
   "id": "9f64da2e",
   "metadata": {},
   "outputs": [],
   "source": [
    "\n",
    "\n"
   ]
  },
  {
   "cell_type": "code",
   "execution_count": null,
   "id": "71314ae9",
   "metadata": {},
   "outputs": [],
   "source": []
  },
  {
   "cell_type": "code",
   "execution_count": null,
   "id": "91155127",
   "metadata": {},
   "outputs": [],
   "source": []
  }
 ],
 "metadata": {
  "kernelspec": {
   "display_name": "Python 3",
   "language": "python",
   "name": "python3"
  },
  "language_info": {
   "codemirror_mode": {
    "name": "ipython",
    "version": 3
   },
   "file_extension": ".py",
   "mimetype": "text/x-python",
   "name": "python",
   "nbconvert_exporter": "python",
   "pygments_lexer": "ipython3",
   "version": "3.9.5"
  }
 },
 "nbformat": 4,
 "nbformat_minor": 5
}
